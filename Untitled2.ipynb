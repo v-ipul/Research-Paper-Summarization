{
  "nbformat": 4,
  "nbformat_minor": 0,
  "metadata": {
    "colab": {
      "name": "Untitled2.ipynb",
      "provenance": [],
      "include_colab_link": true
    },
    "kernelspec": {
      "name": "python3",
      "display_name": "Python 3"
    },
    "language_info": {
      "name": "python"
    }
  },
  "cells": [
    {
      "cell_type": "markdown",
      "metadata": {
        "id": "view-in-github",
        "colab_type": "text"
      },
      "source": [
        "<a href=\"https://colab.research.google.com/github/v-ipul/Research-Paper-Summarization/blob/master/Untitled2.ipynb\" target=\"_parent\"><img src=\"https://colab.research.google.com/assets/colab-badge.svg\" alt=\"Open In Colab\"/></a>"
      ]
    },
    {
      "cell_type": "code",
      "metadata": {
        "colab": {
          "base_uri": "https://localhost:8080/"
        },
        "id": "7nvj_8TctQuS",
        "outputId": "156a9bf7-7912-44d6-d769-5af52ce80d21"
      },
      "source": [
        "pip install PyPDF2"
      ],
      "execution_count": null,
      "outputs": [
        {
          "output_type": "stream",
          "text": [
            "Collecting PyPDF2\n",
            "  Downloading PyPDF2-1.26.0.tar.gz (77 kB)\n",
            "\u001b[?25l\r\u001b[K     |████▎                           | 10 kB 22.0 MB/s eta 0:00:01\r\u001b[K     |████████▌                       | 20 kB 9.9 MB/s eta 0:00:01\r\u001b[K     |████████████▊                   | 30 kB 8.4 MB/s eta 0:00:01\r\u001b[K     |█████████████████               | 40 kB 7.4 MB/s eta 0:00:01\r\u001b[K     |█████████████████████▏          | 51 kB 4.0 MB/s eta 0:00:01\r\u001b[K     |█████████████████████████▍      | 61 kB 4.3 MB/s eta 0:00:01\r\u001b[K     |█████████████████████████████▋  | 71 kB 4.5 MB/s eta 0:00:01\r\u001b[K     |████████████████████████████████| 77 kB 2.6 MB/s \n",
            "\u001b[?25hBuilding wheels for collected packages: PyPDF2\n",
            "  Building wheel for PyPDF2 (setup.py) ... \u001b[?25l\u001b[?25hdone\n",
            "  Created wheel for PyPDF2: filename=PyPDF2-1.26.0-py3-none-any.whl size=61101 sha256=7674d6e4f4377e9697bad36c78dc0d786a7904bb1e5f0f4c96d53fca8529cbcf\n",
            "  Stored in directory: /root/.cache/pip/wheels/80/1a/24/648467ade3a77ed20f35cfd2badd32134e96dd25ca811e64b3\n",
            "Successfully built PyPDF2\n",
            "Installing collected packages: PyPDF2\n",
            "Successfully installed PyPDF2-1.26.0\n"
          ],
          "name": "stdout"
        }
      ]
    },
    {
      "cell_type": "code",
      "metadata": {
        "colab": {
          "base_uri": "https://localhost:8080/"
        },
        "id": "oQaRPMNE0z97",
        "outputId": "34e2d137-e97c-401c-96b4-f19adddcd505"
      },
      "source": [
        "# importing required modules\n",
        "import PyPDF2\n",
        "\t\n",
        "# creating a pdf file object\n",
        "pdfFileObj = open('converted.pdf', 'rb')\n",
        "\t\n",
        "# creating a pdf reader object\n",
        "pdfReader = PyPDF2.PdfFileReader(pdfFileObj)\n",
        "\t\n",
        "# printing number of pages in pdf file\n",
        "print(pdfReader.numPages)\n",
        "\t\n",
        "# creating a page object\n",
        "pageObj = pdfReader.getPage(0)\n",
        "\t\n",
        "# extracting text from page\n",
        "text = print(pageObj.extractText())\n"
      ],
      "execution_count": null,
      "outputs": [
        {
          "output_type": "stream",
          "text": [
            "9\n",
            "Artificial intelligence (AI) and related technologies are increasingly prevalent in business and society, \n",
            "and are beginning to be applied to healthcare. These technologies have the potential to transform \n",
            "many aspects of patient care, as well as \n",
            "administrative processes within provider, payer and \n",
            "pharmaceutical organisations.\n",
            " \n",
            " \n",
            "There are already a number of research studies suggesting that AI can perform as well as or better \n",
            "than humans at key healthcare tasks, such as diagnosing disease. Today, al\n",
            "gorithms are already \n",
            "outperforming radiologists at spotting malignant tumours, and guiding researchers in how to \n",
            "construct cohorts for costly clinical trials. However, for a variety of reasons, we believe that it will be \n",
            "many years before AI replaces human\n",
            "s for broad medical process domains. In this article, we \n",
            "describe both the potential that AI offers to automate aspects of care and some of the barriers to \n",
            "rapid implementation of AI in healthcare.\n",
            " \n",
            " \n",
            "Go to:\n",
            " \n",
            "Types of AI of relevance to healthcare\n",
            " \n",
            "Artificial \n",
            "intelligence is not one technology, but rather a collection of them. Most of these \n",
            "technologies have immediate relevance to the healthcare field, but the specific processes and tasks \n",
            "they support vary widely. Some particular AI technologies of high importa\n",
            "nce to healthcare are \n",
            "defined and described below.\n",
            " \n",
            " \n",
            "Machine learning \n",
            "\n",
            " \n",
            "neural networks and deep learning\n",
            " \n",
            "\n",
            "with data. Machine learning is one of the most\n",
            " \n",
            "common forms of AI; in a 2018 Deloitte survey of \n",
            "1,100 US managers whose organisations were already pursuing AI, 63% of companies surveyed were \n",
            "employing machine learning in their businesses.1 It is a broad technique at the core of many \n",
            "approaches to AI a\n",
            "nd there are many versions of it.\n",
            " \n",
            " \n",
            "In healthcare, the most common application of traditional machine learning is precision medicine \n",
            "\n",
            " \n",
            "predicting what treatment protocols are likely to succeed on a patient based on various patient \n",
            "attributes and the treatme\n",
            "nt context.2 The great majority of machine learning and precision \n",
            "medicine applications require a training dataset for which the outcome variable (eg onset of disease) \n",
            "is known; this is called supervised learning.\n",
            " \n",
            " \n",
            "A more complex form of machine learning i\n",
            "s the neural network \n",
            "\n",
            " \n",
            "a technology that has been \n",
            "available since the 1960s has been well established in healthcare research for several decades3 and \n",
            "has been used for categorisation applications like determining whether a patient will acquire a \n",
            "particular\n",
            " \n",
            "disease. It views problems in terms of inputs, outputs and weights of variables or \n",
            "\n",
            "signals, but the analogy to the brain's function is relatively weak.\n",
            " \n",
            " \n",
            "\n"
          ],
          "name": "stdout"
        }
      ]
    },
    {
      "cell_type": "code",
      "metadata": {
        "id": "VLYIhFNik5Rq"
      },
      "source": [
        "import spacy\n",
        "from spacy.lang.en.stop_words import STOP_WORDS\n",
        "from string import punctuation\n"
      ],
      "execution_count": null,
      "outputs": []
    },
    {
      "cell_type": "code",
      "metadata": {
        "id": "N5cWEWhik6XL"
      },
      "source": [
        "stopwords = list(STOP_WORDS)"
      ],
      "execution_count": null,
      "outputs": []
    },
    {
      "cell_type": "code",
      "metadata": {
        "id": "fPRZX9-qlRtu"
      },
      "source": [
        "nlp = spacy.load('en_core_web_sm')"
      ],
      "execution_count": null,
      "outputs": []
    },
    {
      "cell_type": "code",
      "metadata": {
        "id": "iWLyoyK6lR0Y"
      },
      "source": [
        "doc = nlp(pageObj.extractText())"
      ],
      "execution_count": null,
      "outputs": []
    },
    {
      "cell_type": "code",
      "metadata": {
        "colab": {
          "base_uri": "https://localhost:8080/"
        },
        "id": "6S__E4IElR3L",
        "outputId": "4e55e9e1-4e19-4d8d-80b8-95adec51dd29"
      },
      "source": [
        "tokens = [token.text for token in doc]\n",
        "print(tokens)"
      ],
      "execution_count": null,
      "outputs": [
        {
          "output_type": "stream",
          "text": [
            "['Artificial', 'intelligence', '(', 'AI', ')', 'and', 'related', 'technologies', 'are', 'increasingly', 'prevalent', 'in', 'business', 'and', 'society', ',', '\\n', 'and', 'are', 'beginning', 'to', 'be', 'applied', 'to', 'healthcare', '.', 'These', 'technologies', 'have', 'the', 'potential', 'to', 'transform', '\\n', 'many', 'aspects', 'of', 'patient', 'care', ',', 'as', 'well', 'as', '\\n', 'administrative', 'processes', 'within', 'provider', ',', 'payer', 'and', '\\n', 'pharmaceutical', 'organisations', '.', '\\n \\n \\n', 'There', 'are', 'already', 'a', 'number', 'of', 'research', 'studies', 'suggesting', 'that', 'AI', 'can', 'perform', 'as', 'well', 'as', 'or', 'better', '\\n', 'than', 'humans', 'at', 'key', 'healthcare', 'tasks', ',', 'such', 'as', 'diagnosing', 'disease', '.', 'Today', ',', 'al', '\\n', 'gorithms', 'are', 'already', '\\n', 'outperforming', 'radiologists', 'at', 'spotting', 'malignant', 'tumours', ',', 'and', 'guiding', 'researchers', 'in', 'how', 'to', '\\n', 'construct', 'cohorts', 'for', 'costly', 'clinical', 'trials', '.', 'However', ',', 'for', 'a', 'variety', 'of', 'reasons', ',', 'we', 'believe', 'that', 'it', 'will', 'be', '\\n', 'many', 'years', 'before', 'AI', 'replaces', 'human', '\\n', 's', 'for', 'broad', 'medical', 'process', 'domains', '.', 'In', 'this', 'article', ',', 'we', '\\n', 'describe', 'both', 'the', 'potential', 'that', 'AI', 'offers', 'to', 'automate', 'aspects', 'of', 'care', 'and', 'some', 'of', 'the', 'barriers', 'to', '\\n', 'rapid', 'implementation', 'of', 'AI', 'in', 'healthcare', '.', '\\n \\n \\n', 'Go', 'to', ':', '\\n \\n', 'Types', 'of', 'AI', 'of', 'relevance', 'to', 'healthcare', '\\n \\n', 'Artificial', '\\n', 'intelligence', 'is', 'not', 'one', 'technology', ',', 'but', 'rather', 'a', 'collection', 'of', 'them', '.', 'Most', 'of', 'these', '\\n', 'technologies', 'have', 'immediate', 'relevance', 'to', 'the', 'healthcare', 'field', ',', 'but', 'the', 'specific', 'processes', 'and', 'tasks', '\\n', 'they', 'support', 'vary', 'widely', '.', 'Some', 'particular', 'AI', 'technologies', 'of', 'high', 'importa', '\\n', 'nce', 'to', 'healthcare', 'are', '\\n', 'defined', 'and', 'described', 'below', '.', '\\n \\n \\n', 'Machine', 'learning', '\\n\\n \\n', 'neural', 'networks', 'and', 'deep', 'learning', '\\n \\n\\n', 'with', 'data', '.', 'Machine', 'learning', 'is', 'one', 'of', 'the', 'most', '\\n \\n', 'common', 'forms', 'of', 'AI', ';', 'in', 'a', '2018', 'Deloitte', 'survey', 'of', '\\n', '1,100', 'US', 'managers', 'whose', 'organisations', 'were', 'already', 'pursuing', 'AI', ',', '63', '%', 'of', 'companies', 'surveyed', 'were', '\\n', 'employing', 'machine', 'learning', 'in', 'their', 'businesses.1', 'It', 'is', 'a', 'broad', 'technique', 'at', 'the', 'core', 'of', 'many', '\\n', 'approaches', 'to', 'AI', 'a', '\\n', 'nd', 'there', 'are', 'many', 'versions', 'of', 'it', '.', '\\n \\n \\n', 'In', 'healthcare', ',', 'the', 'most', 'common', 'application', 'of', 'traditional', 'machine', 'learning', 'is', 'precision', 'medicine', '\\n\\n \\n', 'predicting', 'what', 'treatment', 'protocols', 'are', 'likely', 'to', 'succeed', 'on', 'a', 'patient', 'based', 'on', 'various', 'patient', '\\n', 'attributes', 'and', 'the', 'treatme', '\\n', 'nt', 'context.2', 'The', 'great', 'majority', 'of', 'machine', 'learning', 'and', 'precision', '\\n', 'medicine', 'applications', 'require', 'a', 'training', 'dataset', 'for', 'which', 'the', 'outcome', 'variable', '(', 'eg', 'onset', 'of', 'disease', ')', '\\n', 'is', 'known', ';', 'this', 'is', 'called', 'supervised', 'learning', '.', '\\n \\n \\n', 'A', 'more', 'complex', 'form', 'of', 'machine', 'learning', 'i', '\\n', 's', 'the', 'neural', 'network', '\\n\\n \\n', 'a', 'technology', 'that', 'has', 'been', '\\n', 'available', 'since', 'the', '1960s', 'has', 'been', 'well', 'established', 'in', 'healthcare', 'research', 'for', 'several', 'decades3', 'and', '\\n', 'has', 'been', 'used', 'for', 'categorisation', 'applications', 'like', 'determining', 'whether', 'a', 'patient', 'will', 'acquire', 'a', '\\n', 'particular', '\\n \\n', 'disease', '.', 'It', 'views', 'problems', 'in', 'terms', 'of', 'inputs', ',', 'outputs', 'and', 'weights', 'of', 'variables', 'or', '\\n\\n', 'signals', ',', 'but', 'the', 'analogy', 'to', 'the', 'brain', \"'s\", 'function', 'is', 'relatively', 'weak', '.', '\\n \\n \\n']\n"
          ],
          "name": "stdout"
        }
      ]
    },
    {
      "cell_type": "code",
      "metadata": {
        "colab": {
          "base_uri": "https://localhost:8080/",
          "height": 35
        },
        "id": "tnqMvTAYlR5e",
        "outputId": "156bb32f-a605-4b6f-8598-1f60acc2481f"
      },
      "source": [
        "punctuation = punctuation + '\\n'\n",
        "punctuation"
      ],
      "execution_count": null,
      "outputs": [
        {
          "output_type": "execute_result",
          "data": {
            "application/vnd.google.colaboratory.intrinsic+json": {
              "type": "string"
            },
            "text/plain": [
              "'!\"#$%&\\'()*+,-./:;<=>?@[\\\\]^_`{|}~\\n'"
            ]
          },
          "metadata": {
            "tags": []
          },
          "execution_count": 10
        }
      ]
    },
    {
      "cell_type": "code",
      "metadata": {
        "colab": {
          "base_uri": "https://localhost:8080/"
        },
        "id": "PYPUPK0Qlcj_",
        "outputId": "3dc64428-65ae-467e-fa01-21c4b6f8b1ff"
      },
      "source": [
        "word_frequencies = {}\n",
        "for word in doc:\n",
        "    if word.text.lower() not in stopwords:\n",
        "        if word.text.lower() not in punctuation:\n",
        "            if word.text not in word_frequencies.keys():\n",
        "                word_frequencies[word.text] = 1\n",
        "            else:\n",
        "                word_frequencies[word.text] += 1\n",
        "                \n",
        "print(word_frequencies)"
      ],
      "execution_count": null,
      "outputs": [
        {
          "output_type": "stream",
          "text": [
            "{'Artificial': 2, 'intelligence': 2, 'AI': 10, 'related': 1, 'technologies': 4, 'increasingly': 1, 'prevalent': 1, 'business': 1, 'society': 1, 'beginning': 1, 'applied': 1, 'healthcare': 8, 'potential': 2, 'transform': 1, 'aspects': 2, 'patient': 4, 'care': 2, 'administrative': 1, 'processes': 2, 'provider': 1, 'payer': 1, 'pharmaceutical': 1, 'organisations': 2, '\\n \\n \\n': 6, 'number': 1, 'research': 2, 'studies': 1, 'suggesting': 1, 'perform': 1, 'better': 1, 'humans': 1, 'key': 1, 'tasks': 2, 'diagnosing': 1, 'disease': 3, 'Today': 1, 'al': 1, 'gorithms': 1, 'outperforming': 1, 'radiologists': 1, 'spotting': 1, 'malignant': 1, 'tumours': 1, 'guiding': 1, 'researchers': 1, 'construct': 1, 'cohorts': 1, 'costly': 1, 'clinical': 1, 'trials': 1, 'variety': 1, 'reasons': 1, 'believe': 1, 'years': 1, 'replaces': 1, 'human': 1, 's': 2, 'broad': 2, 'medical': 1, 'process': 1, 'domains': 1, 'article': 1, 'describe': 1, 'offers': 1, 'automate': 1, 'barriers': 1, 'rapid': 1, 'implementation': 1, '\\n \\n': 4, 'Types': 1, 'relevance': 2, 'technology': 2, 'collection': 1, 'immediate': 1, 'field': 1, 'specific': 1, 'support': 1, 'vary': 1, 'widely': 1, 'particular': 2, 'high': 1, 'importa': 1, 'nce': 1, 'defined': 1, 'described': 1, 'Machine': 2, 'learning': 8, '\\n\\n \\n': 3, 'neural': 2, 'networks': 1, 'deep': 1, '\\n \\n\\n': 1, 'data': 1, 'common': 2, 'forms': 1, '2018': 1, 'Deloitte': 1, 'survey': 1, '1,100': 1, 'managers': 1, 'pursuing': 1, '63': 1, 'companies': 1, 'surveyed': 1, 'employing': 1, 'machine': 4, 'businesses.1': 1, 'technique': 1, 'core': 1, 'approaches': 1, 'nd': 1, 'versions': 1, 'application': 1, 'traditional': 1, 'precision': 2, 'medicine': 2, 'predicting': 1, 'treatment': 1, 'protocols': 1, 'likely': 1, 'succeed': 1, 'based': 1, 'attributes': 1, 'treatme': 1, 'nt': 1, 'context.2': 1, 'great': 1, 'majority': 1, 'applications': 2, 'require': 1, 'training': 1, 'dataset': 1, 'outcome': 1, 'variable': 1, 'eg': 1, 'onset': 1, 'known': 1, 'called': 1, 'supervised': 1, 'complex': 1, 'form': 1, 'network': 1, 'available': 1, '1960s': 1, 'established': 1, 'decades3': 1, 'categorisation': 1, 'like': 1, 'determining': 1, 'acquire': 1, 'views': 1, 'problems': 1, 'terms': 1, 'inputs': 1, 'outputs': 1, 'weights': 1, 'variables': 1, '\\n\\n': 1, 'signals': 1, 'analogy': 1, 'brain': 1, 'function': 1, 'relatively': 1, 'weak': 1}\n"
          ],
          "name": "stdout"
        }
      ]
    },
    {
      "cell_type": "code",
      "metadata": {
        "colab": {
          "base_uri": "https://localhost:8080/"
        },
        "id": "aplqhcanlcns",
        "outputId": "e5747bfe-b064-448c-8ff5-300599480d06"
      },
      "source": [
        "max_frequency = max(word_frequencies.values())\n",
        "max_frequency"
      ],
      "execution_count": null,
      "outputs": [
        {
          "output_type": "execute_result",
          "data": {
            "text/plain": [
              "10"
            ]
          },
          "metadata": {
            "tags": []
          },
          "execution_count": 13
        }
      ]
    },
    {
      "cell_type": "code",
      "metadata": {
        "colab": {
          "base_uri": "https://localhost:8080/"
        },
        "id": "L2fo9w6Ylcsg",
        "outputId": "0041beac-4c75-42af-ca87-d55abd55dbc0"
      },
      "source": [
        "for word in word_frequencies.keys():\n",
        "    word_frequencies[word] = word_frequencies[word]/max_frequency\n",
        "\n",
        "print(word_frequencies)"
      ],
      "execution_count": null,
      "outputs": [
        {
          "output_type": "stream",
          "text": [
            "{'Artificial': 0.2, 'intelligence': 0.2, 'AI': 1.0, 'related': 0.1, 'technologies': 0.4, 'increasingly': 0.1, 'prevalent': 0.1, 'business': 0.1, 'society': 0.1, 'beginning': 0.1, 'applied': 0.1, 'healthcare': 0.8, 'potential': 0.2, 'transform': 0.1, 'aspects': 0.2, 'patient': 0.4, 'care': 0.2, 'administrative': 0.1, 'processes': 0.2, 'provider': 0.1, 'payer': 0.1, 'pharmaceutical': 0.1, 'organisations': 0.2, '\\n \\n \\n': 0.6, 'number': 0.1, 'research': 0.2, 'studies': 0.1, 'suggesting': 0.1, 'perform': 0.1, 'better': 0.1, 'humans': 0.1, 'key': 0.1, 'tasks': 0.2, 'diagnosing': 0.1, 'disease': 0.3, 'Today': 0.1, 'al': 0.1, 'gorithms': 0.1, 'outperforming': 0.1, 'radiologists': 0.1, 'spotting': 0.1, 'malignant': 0.1, 'tumours': 0.1, 'guiding': 0.1, 'researchers': 0.1, 'construct': 0.1, 'cohorts': 0.1, 'costly': 0.1, 'clinical': 0.1, 'trials': 0.1, 'variety': 0.1, 'reasons': 0.1, 'believe': 0.1, 'years': 0.1, 'replaces': 0.1, 'human': 0.1, 's': 0.2, 'broad': 0.2, 'medical': 0.1, 'process': 0.1, 'domains': 0.1, 'article': 0.1, 'describe': 0.1, 'offers': 0.1, 'automate': 0.1, 'barriers': 0.1, 'rapid': 0.1, 'implementation': 0.1, '\\n \\n': 0.4, 'Types': 0.1, 'relevance': 0.2, 'technology': 0.2, 'collection': 0.1, 'immediate': 0.1, 'field': 0.1, 'specific': 0.1, 'support': 0.1, 'vary': 0.1, 'widely': 0.1, 'particular': 0.2, 'high': 0.1, 'importa': 0.1, 'nce': 0.1, 'defined': 0.1, 'described': 0.1, 'Machine': 0.2, 'learning': 0.8, '\\n\\n \\n': 0.3, 'neural': 0.2, 'networks': 0.1, 'deep': 0.1, '\\n \\n\\n': 0.1, 'data': 0.1, 'common': 0.2, 'forms': 0.1, '2018': 0.1, 'Deloitte': 0.1, 'survey': 0.1, '1,100': 0.1, 'managers': 0.1, 'pursuing': 0.1, '63': 0.1, 'companies': 0.1, 'surveyed': 0.1, 'employing': 0.1, 'machine': 0.4, 'businesses.1': 0.1, 'technique': 0.1, 'core': 0.1, 'approaches': 0.1, 'nd': 0.1, 'versions': 0.1, 'application': 0.1, 'traditional': 0.1, 'precision': 0.2, 'medicine': 0.2, 'predicting': 0.1, 'treatment': 0.1, 'protocols': 0.1, 'likely': 0.1, 'succeed': 0.1, 'based': 0.1, 'attributes': 0.1, 'treatme': 0.1, 'nt': 0.1, 'context.2': 0.1, 'great': 0.1, 'majority': 0.1, 'applications': 0.2, 'require': 0.1, 'training': 0.1, 'dataset': 0.1, 'outcome': 0.1, 'variable': 0.1, 'eg': 0.1, 'onset': 0.1, 'known': 0.1, 'called': 0.1, 'supervised': 0.1, 'complex': 0.1, 'form': 0.1, 'network': 0.1, 'available': 0.1, '1960s': 0.1, 'established': 0.1, 'decades3': 0.1, 'categorisation': 0.1, 'like': 0.1, 'determining': 0.1, 'acquire': 0.1, 'views': 0.1, 'problems': 0.1, 'terms': 0.1, 'inputs': 0.1, 'outputs': 0.1, 'weights': 0.1, 'variables': 0.1, '\\n\\n': 0.1, 'signals': 0.1, 'analogy': 0.1, 'brain': 0.1, 'function': 0.1, 'relatively': 0.1, 'weak': 0.1}\n"
          ],
          "name": "stdout"
        }
      ]
    },
    {
      "cell_type": "code",
      "metadata": {
        "colab": {
          "base_uri": "https://localhost:8080/"
        },
        "id": "WQC3Tf2JlkMG",
        "outputId": "8ca44503-7972-4ef1-c691-eb4dacc519b0"
      },
      "source": [
        "sentence_tokens = [sent for sent in doc.sents]\n",
        "print(sentence_tokens)"
      ],
      "execution_count": null,
      "outputs": [
        {
          "output_type": "stream",
          "text": [
            "[Artificial intelligence (AI) and related technologies are increasingly prevalent in business and society, \n",
            "and are beginning to be applied to healthcare., These technologies have the potential to transform \n",
            "many aspects of patient care, as well as \n",
            "administrative processes within provider, payer and \n",
            "pharmaceutical organisations.\n",
            " \n",
            " \n",
            ", There are already a number of research studies suggesting that AI can perform as well as or better \n",
            "than humans at key healthcare tasks, such as diagnosing disease., Today, al\n",
            "gorithms are already \n",
            "outperforming radiologists at spotting malignant tumours, and guiding researchers in how to \n",
            "construct cohorts for costly clinical trials., However, for a variety of reasons, we believe that it will be \n",
            "many years before AI replaces human\n",
            "s for broad medical process domains., In this article, we \n",
            "describe both the potential that AI offers to automate aspects of care and some of the barriers to \n",
            "rapid implementation of AI in healthcare.\n",
            " \n",
            " \n",
            ", Go to:\n",
            " \n",
            "Types of AI of relevance to healthcare\n",
            " \n",
            ", Artificial \n",
            ", intelligence is not one technology, but rather a collection of them., Most of these \n",
            "technologies have immediate relevance to the healthcare field, but the specific processes and tasks \n",
            ", they support vary widely., Some particular AI technologies of high importa\n",
            "nce to healthcare are \n",
            "defined and described below.\n",
            " \n",
            " \n",
            ", Machine learning \n",
            "\n",
            " \n",
            "neural networks and deep learning\n",
            " \n",
            "\n",
            "with data., Machine learning is one of the most\n",
            " \n",
            "common forms of AI; in a 2018 Deloitte survey of \n",
            "1,100 US managers whose organisations were already pursuing AI, 63% of companies surveyed were \n",
            "employing machine learning in their businesses.1, It is a broad technique at the core of many \n",
            "approaches to AI, a\n",
            "nd there are many versions of it.\n",
            " \n",
            " \n",
            ", In healthcare, the most common application of traditional machine learning is precision medicine \n",
            "\n",
            " \n",
            "predicting what treatment protocols are likely to succeed on a patient based on various patient \n",
            "attributes and the treatme\n",
            ", nt context.2 The great majority of machine learning and precision \n",
            ", medicine applications require a training dataset for which the outcome variable (eg onset of disease) \n",
            "is known; this is called supervised learning.\n",
            " \n",
            " \n",
            ", A more complex form of machine learning, i\n",
            "s the neural network \n",
            "\n",
            " \n",
            ", a technology that has been \n",
            "available since the 1960s has been well established in healthcare research for several decades3 and \n",
            "has been used for categorisation applications like determining whether a patient will acquire a \n",
            "particular\n",
            " \n",
            "disease., It views problems in terms of inputs, outputs and weights of variables or \n",
            "\n",
            "signals, but the analogy to the brain's function is relatively weak.\n",
            " \n",
            " \n",
            "]\n"
          ],
          "name": "stdout"
        }
      ]
    },
    {
      "cell_type": "code",
      "metadata": {
        "colab": {
          "base_uri": "https://localhost:8080/"
        },
        "id": "S0WUwfw-lkPK",
        "outputId": "3dcddb01-f374-4dd0-d07b-4b0738b8fe52"
      },
      "source": [
        "sentence_scores = {}\n",
        "for sent in sentence_tokens:\n",
        "    for word in sent:\n",
        "        if word.text.lower() in word_frequencies.keys():\n",
        "            if sent not in sentence_scores.keys():\n",
        "                sentence_scores[sent] = word_frequencies[word.text.lower()]\n",
        "            else:\n",
        "                sentence_scores[sent] += word_frequencies[word.text.lower()]\n",
        "                \n",
        "sentence_scores"
      ],
      "execution_count": null,
      "outputs": [
        {
          "output_type": "execute_result",
          "data": {
            "text/plain": [
              "{Artificial intelligence (AI) and related technologies are increasingly prevalent in business and society, \n",
              " and are beginning to be applied to healthcare.: 2.1000000000000005,\n",
              " These technologies have the potential to transform \n",
              " many aspects of patient care, as well as \n",
              " administrative processes within provider, payer and \n",
              " pharmaceutical organisations.\n",
              "  \n",
              "  : 2.900000000000001,\n",
              " There are already a number of research studies suggesting that AI can perform as well as or better \n",
              " than humans at key healthcare tasks, such as diagnosing disease.: 2.3,\n",
              " Today, al\n",
              " gorithms are already \n",
              " outperforming radiologists at spotting malignant tumours, and guiding researchers in how to \n",
              " construct cohorts for costly clinical trials.: 1.4000000000000001,\n",
              " However, for a variety of reasons, we believe that it will be \n",
              " many years before AI replaces human\n",
              " s for broad medical process domains.: 1.3000000000000003,\n",
              " In this article, we \n",
              " describe both the potential that AI offers to automate aspects of care and some of the barriers to \n",
              " rapid implementation of AI in healthcare.\n",
              "  \n",
              "  : 2.7000000000000006,\n",
              " Go to:\n",
              "  \n",
              " Types of AI of relevance to healthcare\n",
              "  : 1.8000000000000003,\n",
              " intelligence is not one technology, but rather a collection of them.: 0.5,\n",
              " Most of these \n",
              " technologies have immediate relevance to the healthcare field, but the specific processes and tasks : 2.1,\n",
              " they support vary widely.: 0.30000000000000004,\n",
              " Some particular AI technologies of high importa\n",
              " nce to healthcare are \n",
              " defined and described below.\n",
              "  \n",
              "  : 2.5000000000000004,\n",
              " Machine learning \n",
              " \n",
              "  \n",
              " neural networks and deep learning\n",
              "  \n",
              " \n",
              " with data.: 2.9000000000000004,\n",
              " Machine learning is one of the most\n",
              "  \n",
              " common forms of AI; in a 2018 Deloitte survey of \n",
              " 1,100 US managers whose organisations were already pursuing AI, 63% of companies surveyed were \n",
              " employing machine learning in their businesses.1: 4.300000000000001,\n",
              " It is a broad technique at the core of many \n",
              " approaches to AI: 0.5,\n",
              " a\n",
              " nd there are many versions of it.\n",
              "  \n",
              "  : 0.8,\n",
              " In healthcare, the most common application of traditional machine learning is precision medicine \n",
              " \n",
              "  \n",
              " predicting what treatment protocols are likely to succeed on a patient based on various patient \n",
              " attributes and the treatme: 4.7,\n",
              " nt context.2 The great majority of machine learning and precision : 1.8,\n",
              " medicine applications require a training dataset for which the outcome variable (eg onset of disease) \n",
              " is known; this is called supervised learning.\n",
              "  \n",
              "  : 3.1,\n",
              " A more complex form of machine learning: 1.4000000000000001,\n",
              " i\n",
              " s the neural network \n",
              " \n",
              "  : 0.8,\n",
              " a technology that has been \n",
              " available since the 1960s has been well established in healthcare research for several decades3 and \n",
              " has been used for categorisation applications like determining whether a patient will acquire a \n",
              " particular\n",
              "  \n",
              " disease.: 3.5,\n",
              " It views problems in terms of inputs, outputs and weights of variables or \n",
              " \n",
              " signals, but the analogy to the brain's function is relatively weak.\n",
              "  \n",
              "  : 2.0}"
            ]
          },
          "metadata": {
            "tags": []
          },
          "execution_count": 19
        }
      ]
    },
    {
      "cell_type": "code",
      "metadata": {
        "id": "7lQy8riulrpi"
      },
      "source": [
        "from heapq import nlargest"
      ],
      "execution_count": null,
      "outputs": []
    },
    {
      "cell_type": "code",
      "metadata": {
        "colab": {
          "base_uri": "https://localhost:8080/"
        },
        "id": "uTLn8kvzlrsu",
        "outputId": "fad706ad-dd13-4b1e-9a52-a9a0cc1da8e4"
      },
      "source": [
        "select_length = int(len(sentence_tokens)*0.3)\n",
        "select_length"
      ],
      "execution_count": null,
      "outputs": [
        {
          "output_type": "execute_result",
          "data": {
            "text/plain": [
              "6"
            ]
          },
          "metadata": {
            "tags": []
          },
          "execution_count": 21
        }
      ]
    },
    {
      "cell_type": "code",
      "metadata": {
        "colab": {
          "base_uri": "https://localhost:8080/"
        },
        "id": "FzvD2dxJlyPw",
        "outputId": "71de5d4b-8560-4209-faba-553d94d66558"
      },
      "source": [
        "summary = nlargest(select_length, sentence_scores, key = sentence_scores.get)\n",
        "summary"
      ],
      "execution_count": null,
      "outputs": [
        {
          "output_type": "execute_result",
          "data": {
            "text/plain": [
              "[In healthcare, the most common application of traditional machine learning is precision medicine \n",
              " \n",
              "  \n",
              " predicting what treatment protocols are likely to succeed on a patient based on various patient \n",
              " attributes and the treatme, Machine learning is one of the most\n",
              "  \n",
              " common forms of AI; in a 2018 Deloitte survey of \n",
              " 1,100 US managers whose organisations were already pursuing AI, 63% of companies surveyed were \n",
              " employing machine learning in their businesses.1, a technology that has been \n",
              " available since the 1960s has been well established in healthcare research for several decades3 and \n",
              " has been used for categorisation applications like determining whether a patient will acquire a \n",
              " particular\n",
              "  \n",
              " disease., medicine applications require a training dataset for which the outcome variable (eg onset of disease) \n",
              " is known; this is called supervised learning.\n",
              "  \n",
              "  , These technologies have the potential to transform \n",
              " many aspects of patient care, as well as \n",
              " administrative processes within provider, payer and \n",
              " pharmaceutical organisations.\n",
              "  \n",
              "  , Machine learning \n",
              " \n",
              "  \n",
              " neural networks and deep learning\n",
              "  \n",
              " \n",
              " with data.]"
            ]
          },
          "metadata": {
            "tags": []
          },
          "execution_count": 22
        }
      ]
    },
    {
      "cell_type": "code",
      "metadata": {
        "id": "r8Dtp0tVlyS6"
      },
      "source": [
        "final_summary = [word.text for word in summary]\n",
        "summary = ' '.join(final_summary)"
      ],
      "execution_count": null,
      "outputs": []
    },
    {
      "cell_type": "code",
      "metadata": {
        "colab": {
          "base_uri": "https://localhost:8080/"
        },
        "id": "FOwmfRQVl7o7",
        "outputId": "eb52b043-d4bb-4fe9-ba12-5bc624c4d11e"
      },
      "source": [
        "print(pageObj.extractText())"
      ],
      "execution_count": null,
      "outputs": [
        {
          "output_type": "stream",
          "text": [
            "Artificial intelligence (AI) and related technologies are increasingly prevalent in business and society, \n",
            "and are beginning to be applied to healthcare. These technologies have the potential to transform \n",
            "many aspects of patient care, as well as \n",
            "administrative processes within provider, payer and \n",
            "pharmaceutical organisations.\n",
            " \n",
            " \n",
            "There are already a number of research studies suggesting that AI can perform as well as or better \n",
            "than humans at key healthcare tasks, such as diagnosing disease. Today, al\n",
            "gorithms are already \n",
            "outperforming radiologists at spotting malignant tumours, and guiding researchers in how to \n",
            "construct cohorts for costly clinical trials. However, for a variety of reasons, we believe that it will be \n",
            "many years before AI replaces human\n",
            "s for broad medical process domains. In this article, we \n",
            "describe both the potential that AI offers to automate aspects of care and some of the barriers to \n",
            "rapid implementation of AI in healthcare.\n",
            " \n",
            " \n",
            "Go to:\n",
            " \n",
            "Types of AI of relevance to healthcare\n",
            " \n",
            "Artificial \n",
            "intelligence is not one technology, but rather a collection of them. Most of these \n",
            "technologies have immediate relevance to the healthcare field, but the specific processes and tasks \n",
            "they support vary widely. Some particular AI technologies of high importa\n",
            "nce to healthcare are \n",
            "defined and described below.\n",
            " \n",
            " \n",
            "Machine learning \n",
            "\n",
            " \n",
            "neural networks and deep learning\n",
            " \n",
            "\n",
            "with data. Machine learning is one of the most\n",
            " \n",
            "common forms of AI; in a 2018 Deloitte survey of \n",
            "1,100 US managers whose organisations were already pursuing AI, 63% of companies surveyed were \n",
            "employing machine learning in their businesses.1 It is a broad technique at the core of many \n",
            "approaches to AI a\n",
            "nd there are many versions of it.\n",
            " \n",
            " \n",
            "In healthcare, the most common application of traditional machine learning is precision medicine \n",
            "\n",
            " \n",
            "predicting what treatment protocols are likely to succeed on a patient based on various patient \n",
            "attributes and the treatme\n",
            "nt context.2 The great majority of machine learning and precision \n",
            "medicine applications require a training dataset for which the outcome variable (eg onset of disease) \n",
            "is known; this is called supervised learning.\n",
            " \n",
            " \n",
            "A more complex form of machine learning i\n",
            "s the neural network \n",
            "\n",
            " \n",
            "a technology that has been \n",
            "available since the 1960s has been well established in healthcare research for several decades3 and \n",
            "has been used for categorisation applications like determining whether a patient will acquire a \n",
            "particular\n",
            " \n",
            "disease. It views problems in terms of inputs, outputs and weights of variables or \n",
            "\n",
            "signals, but the analogy to the brain's function is relatively weak.\n",
            " \n",
            " \n",
            "\n"
          ],
          "name": "stdout"
        }
      ]
    },
    {
      "cell_type": "code",
      "metadata": {
        "colab": {
          "base_uri": "https://localhost:8080/"
        },
        "id": "r3TieRd2pB3A",
        "outputId": "432255fe-833c-4b79-f08c-ffbe8d9beb73"
      },
      "source": [
        "print(summary)"
      ],
      "execution_count": null,
      "outputs": [
        {
          "output_type": "stream",
          "text": [
            "In healthcare, the most common application of traditional machine learning is precision medicine \n",
            "\n",
            " \n",
            "predicting what treatment protocols are likely to succeed on a patient based on various patient \n",
            "attributes and the treatme\n",
            " Machine learning is one of the most\n",
            " \n",
            "common forms of AI; in a 2018 Deloitte survey of \n",
            "1,100 US managers whose organisations were already pursuing AI, 63% of companies surveyed were \n",
            "employing machine learning in their businesses.1 a technology that has been \n",
            "available since the 1960s has been well established in healthcare research for several decades3 and \n",
            "has been used for categorisation applications like determining whether a patient will acquire a \n",
            "particular\n",
            " \n",
            "disease. medicine applications require a training dataset for which the outcome variable (eg onset of disease) \n",
            "is known; this is called supervised learning.\n",
            " \n",
            " \n",
            " These technologies have the potential to transform \n",
            "many aspects of patient care, as well as \n",
            "administrative processes within provider, payer and \n",
            "pharmaceutical organisations.\n",
            " \n",
            " \n",
            " Machine learning \n",
            "\n",
            " \n",
            "neural networks and deep learning\n",
            " \n",
            "\n",
            "with data.\n"
          ],
          "name": "stdout"
        }
      ]
    },
    {
      "cell_type": "code",
      "metadata": {
        "id": "tNTDVmIStOAc"
      },
      "source": [
        ""
      ],
      "execution_count": null,
      "outputs": []
    },
    {
      "cell_type": "code",
      "metadata": {
        "id": "FLKASuzTl-CL"
      },
      "source": [
        ""
      ],
      "execution_count": null,
      "outputs": []
    },
    {
      "cell_type": "code",
      "metadata": {
        "id": "LgV1Ed6Bl7ub"
      },
      "source": [
        ""
      ],
      "execution_count": null,
      "outputs": []
    }
  ]
}